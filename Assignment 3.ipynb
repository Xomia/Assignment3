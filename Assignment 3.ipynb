{
 "cells": [
  {
   "cell_type": "code",
   "execution_count": 13,
   "id": "87ef4fda",
   "metadata": {},
   "outputs": [
    {
     "name": "stdout",
     "output_type": "stream",
     "text": [
      "Twinkle, twinkle, little star, \n",
      "\tHow I wonder what you are! \n",
      "\t\tUp above the world so high, \n",
      "\t\tLike a diamond in the sky. \n",
      "Twinkle, twinkle, little star, \n",
      "\tHow I wonder what you are!\n"
     ]
    }
   ],
   "source": [
    "\"\"\"Q#1 Write a python program to print the following string in a specific formate.\"\"\"\n",
    "\n",
    "print(\"Twinkle, twinkle, little star, \\n\" +\n",
    "      \"\\tHow I wonder what you are!\"+\n",
    "      \" \\n\\t\\tUp above the world so high,\"+\n",
    "      \" \\n\\t\\tLike a diamond in the sky. \\n\"+\"Twinkle, twinkle, little star, \\n\\tHow I wonder what you are!\")"
   ]
  },
  {
   "cell_type": "code",
   "execution_count": 28,
   "id": "cd56cf57",
   "metadata": {},
   "outputs": [
    {
     "name": "stdout",
     "output_type": "stream",
     "text": [
      "Python version\n",
      "3.8.8 (default, Apr 13 2021, 15:08:03) [MSC v.1916 64 bit (AMD64)]\n"
     ]
    }
   ],
   "source": [
    "\"\"\"Q#2 Write a Python program to get the Python version you are using\"\"\"\n",
    "\n",
    "import sys\n",
    "print(\"Python version is:\")\n",
    "print (sys.version)"
   ]
  },
  {
   "cell_type": "code",
   "execution_count": 25,
   "id": "e70855c0",
   "metadata": {},
   "outputs": [
    {
     "name": "stdout",
     "output_type": "stream",
     "text": [
      "Current date and time : 22-10-2021 17:02:55\n"
     ]
    }
   ],
   "source": [
    "\"\"\"Q#3 Write a Python program to display the current date and time. \"\"\"\n",
    "import datetime\n",
    "now = datetime.datetime.now()\n",
    "print (\"Current date and time : \" + now.strftime(\"%d-%m-%Y %H:%M:%S\"))"
   ]
  },
  {
   "cell_type": "code",
   "execution_count": 24,
   "id": "639982d7",
   "metadata": {},
   "outputs": [
    {
     "name": "stdout",
     "output_type": "stream",
     "text": [
      "Input the radius of the circle : 3\n",
      "The area of the circle with radius 3.0 is: 28.274333882308138\n"
     ]
    }
   ],
   "source": [
    "\"\"\"Q#4 Write a Python program which accepts the radius of a circle from the user and compute\n",
    "the area.\"\"\"\n",
    "r = float(input (\"Input the radius of the circle : \"))\n",
    "print (\"The area of the circle with radius is: \" + str(pi * r**2))\n",
    "\n"
   ]
  },
  {
   "cell_type": "code",
   "execution_count": 1,
   "id": "790910bb",
   "metadata": {},
   "outputs": [
    {
     "name": "stdout",
     "output_type": "stream",
     "text": [
      "Enter your First Name : somia\n",
      "Enter your Last Name : khanam\n",
      "Hello  khanam somia\n"
     ]
    }
   ],
   "source": [
    "\"\"\" Q#5 Write a Python program which accepts the user's first and last name and print them in\n",
    "reverse order with a space between them. \"\"\"\n",
    "\n",
    "f_name = input(\"Enter your First Name : \")\n",
    "l_name = input(\"Enter your Last Name : \")\n",
    "print (\"Hello  \" + l_name + \" \" + f_name)"
   ]
  },
  {
   "cell_type": "code",
   "execution_count": 10,
   "id": "47d8342e",
   "metadata": {},
   "outputs": [
    {
     "name": "stdout",
     "output_type": "stream",
     "text": [
      "Enter first number: 12.5\n",
      "Enter second number: 13\n",
      "The sum of 12.5 and 13.0 is   :25.5\n"
     ]
    }
   ],
   "source": [
    "\"\"\"Q#6 Write a python program which takes two inputs from user and print them addition\"\"\"\n",
    "\n",
    "num1 = float(input(\"Enter first number: \"))\n",
    "num2 = float(input(\"Enter second number: \"))\n",
    "\n",
    "sum = num1 + num2\n",
    "\n",
    "print(\"The sum of \"+ str(num1) +\" and \"+ str(num2) + \" is   :\" + str(sum))"
   ]
  },
  {
   "cell_type": "code",
   "execution_count": 27,
   "id": "c3e33661",
   "metadata": {},
   "outputs": [
    {
     "name": "stdout",
     "output_type": "stream",
     "text": [
      "Enter marks of maths :45\n",
      "Enter marks of English :78\n",
      "Enter marks of Urdu :90\n",
      "Enter marks of Science :65\n",
      "Enter marks of Computer :99\n",
      "Grade A\n"
     ]
    }
   ],
   "source": [
    "\"\"\"Q#7 Write a program which takes 5 inputs from user for different subject’s marks, total it\n",
    "and generate mark sheet using grades ? \"\"\"\n",
    "\n",
    "marks1= float(input(\"Enter marks of maths :\"))\n",
    "marks2= float(input(\"Enter marks of English :\"))\n",
    "marks3= float(input(\"Enter marks of Urdu :\"))\n",
    "marks4= float(input(\"Enter marks of Science :\"))\n",
    "marks5= float(input(\"Enter marks of Computer :\"))\n",
    "\n",
    "total_marks = 500\n",
    "percentage = (marks1 + marks2 + marks3 + marks4 + marks5) / total_marks * 100\n",
    "# print(percentage)\n",
    "if percentage > 100 or percentage < 0:\n",
    "    print(\"Invalid\")\n",
    "elif percentage <= 100 and percentage > 80 :\n",
    "    print(\"Grade A+\")\n",
    "elif percentage <= 80 and percentage > 70 :\n",
    "    print(\"Grade A\")\n",
    "elif percentage <= 70 and percentage > 60 :\n",
    "    print(\"Grade B\")\n",
    "elif percentage <= 60 and percentage > 50 :\n",
    "    print(\"Grade C\")\n",
    "elif percentage <= 50 and percentage > 40 :\n",
    "    print(\"Grade D\")\n",
    "elif percentage <= 40 and percentage >= 33 :\n",
    "    print(\"Grade E\") \n",
    "else:\n",
    "    print(\"Fail\")"
   ]
  },
  {
   "cell_type": "code",
   "execution_count": 19,
   "id": "66e8823d",
   "metadata": {},
   "outputs": [
    {
     "name": "stdout",
     "output_type": "stream",
     "text": [
      "Enter a number: 10\n",
      "Number is even\n"
     ]
    }
   ],
   "source": [
    "\"\"\"Q# 8 Write a program which take input from user and identify that the given number is even\n",
    "or odd? \"\"\"\n",
    "num = int(input(\"Enter a number: \"))\n",
    "modulas = num % 2\n",
    "if modulas > 0:\n",
    "    print(\"Nubmer is odd \")\n",
    "else:\n",
    "    print(\"Number is even\")"
   ]
  },
  {
   "cell_type": "code",
   "execution_count": 1,
   "id": "be4b3a9b",
   "metadata": {},
   "outputs": [
    {
     "name": "stdout",
     "output_type": "stream",
     "text": [
      "Length of the list =  6\n"
     ]
    }
   ],
   "source": [
    "\"\"\"Q#9 Write a program which print the length of the list? \"\"\"\n",
    "List = [\"Maria\", \"Khurram\",\"Zoha\", 5 , 6 , 100 ]\n",
    "print (\"Length of the list = \", len(List))"
   ]
  },
  {
   "cell_type": "code",
   "execution_count": 4,
   "id": "c7a6bd88",
   "metadata": {},
   "outputs": [
    {
     "name": "stdout",
     "output_type": "stream",
     "text": [
      "How many numbers you want to enter in the list: 2\n",
      "Enter number : 45\n",
      "[45]\n",
      "Enter number : 5\n",
      "[45, 5]\n",
      "Sum of elements in given list is : 50.0\n"
     ]
    }
   ],
   "source": [
    "\"\"\"Q#10 Write a Python program to sum all the numeric items in a list? \"\"\"\n",
    "List = []\n",
    "num = int(input(\"How many numbers you want to enter in the list: \"))\n",
    "for n in range(num):\n",
    "    numbers = int(input(\"Enter number : \"))\n",
    "    List.append(numbers)\n",
    "    print (List)\n",
    "print(\"Sum of elements in given list is :\", float(sum(List)))"
   ]
  },
  {
   "cell_type": "code",
   "execution_count": 22,
   "id": "f9a868a2",
   "metadata": {},
   "outputs": [
    {
     "name": "stdout",
     "output_type": "stream",
     "text": [
      "How many numbers you want to enter in the list: 4\n",
      "Enter number : 52\n",
      "Enter number : 30\n",
      "Enter number : 6\n",
      "Enter number : 40\n",
      "Largest element is: 52\n"
     ]
    }
   ],
   "source": [
    "\"\"\"Q# 11 1.Write a Python program to get the largest number from a numeric list.\"\"\"\n",
    "List = []\n",
    "num = int(input(\"How many numbers you want to enter in the list: \"))\n",
    "for n in range(num):\n",
    "    numbers = int(input(\"Enter number : \"))\n",
    "    List.append(numbers)\n",
    "List.sort()\n",
    "\n",
    "print(\"Largest element is:\", List[-1])"
   ]
  },
  {
   "cell_type": "code",
   "execution_count": 24,
   "id": "a19df100",
   "metadata": {},
   "outputs": [
    {
     "name": "stdout",
     "output_type": "stream",
     "text": [
      "1\n",
      "1\n",
      "2\n",
      "3\n"
     ]
    }
   ],
   "source": [
    "\"\"\"Q# 12\n",
    "Take a list, say for example this one:\n",
    "\n",
    "a = [1, 1, 2, 3, 5, 8, 13, 21, 34, 55, 89]\n",
    " Write a program that prints out all the elements of the list that are less than 5. \"\"\"\n",
    "List = [1, 1, 2, 3, 5, 8, 13, 21, 34, 55, 89]\n",
    "for i in List:\n",
    "    if i < 5:\n",
    "        print(i)"
   ]
  },
  {
   "cell_type": "code",
   "execution_count": null,
   "id": "fcbd3825",
   "metadata": {},
   "outputs": [],
   "source": []
  },
  {
   "cell_type": "code",
   "execution_count": null,
   "id": "308c8148",
   "metadata": {},
   "outputs": [],
   "source": []
  }
 ],
 "metadata": {
  "kernelspec": {
   "display_name": "Python 3",
   "language": "python",
   "name": "python3"
  },
  "language_info": {
   "codemirror_mode": {
    "name": "ipython",
    "version": 3
   },
   "file_extension": ".py",
   "mimetype": "text/x-python",
   "name": "python",
   "nbconvert_exporter": "python",
   "pygments_lexer": "ipython3",
   "version": "3.8.8"
  }
 },
 "nbformat": 4,
 "nbformat_minor": 5
}
